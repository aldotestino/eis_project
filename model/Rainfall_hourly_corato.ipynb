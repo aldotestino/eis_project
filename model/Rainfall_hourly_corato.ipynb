{
  "cells": [
    {
      "cell_type": "code",
      "execution_count": 1,
      "metadata": {
        "id": "aQGz3_lJB-hH"
      },
      "outputs": [],
      "source": [
        "import os\n",
        "import torch\n",
        "import numpy as np\n",
        "import pandas as pd\n",
        "import seaborn as sns\n",
        "from torch import nn, optim\n",
        "from datetime import datetime\n",
        "import matplotlib.pyplot as plt\n",
        "from sklearn import preprocessing\n",
        "import torch.nn.functional as func\n",
        "from sklearn.preprocessing import LabelEncoder\n",
        "from sklearn.model_selection import train_test_split\n",
        "from sklearn.metrics import confusion_matrix, classification_report\n",
        "%matplotlib inline"
      ]
    },
    {
      "cell_type": "code",
      "execution_count": 2,
      "metadata": {
        "id": "YSQxVRHaCd73"
      },
      "outputs": [],
      "source": [
        "df = pd.read_csv(\"weather_corato.csv\", index_col=\"datetime\", parse_dates=True)\n",
        "features_and_target = [\"temperature\", \"relativehumidity\", \"pressure_msl\", \"precipitation\"]\n",
        "df = df[features_and_target]"
      ]
    },
    {
      "cell_type": "code",
      "execution_count": 3,
      "metadata": {
        "id": "QA1DxVBFFu80",
        "colab": {
          "base_uri": "https://localhost:8080/",
          "height": 300
        },
        "outputId": "8370fabc-cba6-47b5-e1ee-c8ea8fe9d2e2"
      },
      "outputs": [
        {
          "output_type": "execute_result",
          "data": {
            "text/plain": [
              "        temperature  relativehumidity  pressure_msl  precipitation\n",
              "count  65018.000000      65018.000000  65018.000000   65018.000000\n",
              "mean      16.041801         71.218601   1015.651829       0.073796\n",
              "std        7.513854         17.651779      6.722342       0.324917\n",
              "min       -8.100000         10.000000    985.100000       0.000000\n",
              "25%       10.000000         58.000000   1011.700000       0.000000\n",
              "50%       15.300000         73.000000   1015.300000       0.000000\n",
              "75%       21.600000         86.000000   1019.600000       0.000000\n",
              "max       40.200000        100.000000   1040.400000      13.600000"
            ],
            "text/html": [
              "\n",
              "  <div id=\"df-d7f0dda4-ead6-4588-8672-2fa97c842b95\">\n",
              "    <div class=\"colab-df-container\">\n",
              "      <div>\n",
              "<style scoped>\n",
              "    .dataframe tbody tr th:only-of-type {\n",
              "        vertical-align: middle;\n",
              "    }\n",
              "\n",
              "    .dataframe tbody tr th {\n",
              "        vertical-align: top;\n",
              "    }\n",
              "\n",
              "    .dataframe thead th {\n",
              "        text-align: right;\n",
              "    }\n",
              "</style>\n",
              "<table border=\"1\" class=\"dataframe\">\n",
              "  <thead>\n",
              "    <tr style=\"text-align: right;\">\n",
              "      <th></th>\n",
              "      <th>temperature</th>\n",
              "      <th>relativehumidity</th>\n",
              "      <th>pressure_msl</th>\n",
              "      <th>precipitation</th>\n",
              "    </tr>\n",
              "  </thead>\n",
              "  <tbody>\n",
              "    <tr>\n",
              "      <th>count</th>\n",
              "      <td>65018.000000</td>\n",
              "      <td>65018.000000</td>\n",
              "      <td>65018.000000</td>\n",
              "      <td>65018.000000</td>\n",
              "    </tr>\n",
              "    <tr>\n",
              "      <th>mean</th>\n",
              "      <td>16.041801</td>\n",
              "      <td>71.218601</td>\n",
              "      <td>1015.651829</td>\n",
              "      <td>0.073796</td>\n",
              "    </tr>\n",
              "    <tr>\n",
              "      <th>std</th>\n",
              "      <td>7.513854</td>\n",
              "      <td>17.651779</td>\n",
              "      <td>6.722342</td>\n",
              "      <td>0.324917</td>\n",
              "    </tr>\n",
              "    <tr>\n",
              "      <th>min</th>\n",
              "      <td>-8.100000</td>\n",
              "      <td>10.000000</td>\n",
              "      <td>985.100000</td>\n",
              "      <td>0.000000</td>\n",
              "    </tr>\n",
              "    <tr>\n",
              "      <th>25%</th>\n",
              "      <td>10.000000</td>\n",
              "      <td>58.000000</td>\n",
              "      <td>1011.700000</td>\n",
              "      <td>0.000000</td>\n",
              "    </tr>\n",
              "    <tr>\n",
              "      <th>50%</th>\n",
              "      <td>15.300000</td>\n",
              "      <td>73.000000</td>\n",
              "      <td>1015.300000</td>\n",
              "      <td>0.000000</td>\n",
              "    </tr>\n",
              "    <tr>\n",
              "      <th>75%</th>\n",
              "      <td>21.600000</td>\n",
              "      <td>86.000000</td>\n",
              "      <td>1019.600000</td>\n",
              "      <td>0.000000</td>\n",
              "    </tr>\n",
              "    <tr>\n",
              "      <th>max</th>\n",
              "      <td>40.200000</td>\n",
              "      <td>100.000000</td>\n",
              "      <td>1040.400000</td>\n",
              "      <td>13.600000</td>\n",
              "    </tr>\n",
              "  </tbody>\n",
              "</table>\n",
              "</div>\n",
              "      <button class=\"colab-df-convert\" onclick=\"convertToInteractive('df-d7f0dda4-ead6-4588-8672-2fa97c842b95')\"\n",
              "              title=\"Convert this dataframe to an interactive table.\"\n",
              "              style=\"display:none;\">\n",
              "        \n",
              "  <svg xmlns=\"http://www.w3.org/2000/svg\" height=\"24px\"viewBox=\"0 0 24 24\"\n",
              "       width=\"24px\">\n",
              "    <path d=\"M0 0h24v24H0V0z\" fill=\"none\"/>\n",
              "    <path d=\"M18.56 5.44l.94 2.06.94-2.06 2.06-.94-2.06-.94-.94-2.06-.94 2.06-2.06.94zm-11 1L8.5 8.5l.94-2.06 2.06-.94-2.06-.94L8.5 2.5l-.94 2.06-2.06.94zm10 10l.94 2.06.94-2.06 2.06-.94-2.06-.94-.94-2.06-.94 2.06-2.06.94z\"/><path d=\"M17.41 7.96l-1.37-1.37c-.4-.4-.92-.59-1.43-.59-.52 0-1.04.2-1.43.59L10.3 9.45l-7.72 7.72c-.78.78-.78 2.05 0 2.83L4 21.41c.39.39.9.59 1.41.59.51 0 1.02-.2 1.41-.59l7.78-7.78 2.81-2.81c.8-.78.8-2.07 0-2.86zM5.41 20L4 18.59l7.72-7.72 1.47 1.35L5.41 20z\"/>\n",
              "  </svg>\n",
              "      </button>\n",
              "      \n",
              "  <style>\n",
              "    .colab-df-container {\n",
              "      display:flex;\n",
              "      flex-wrap:wrap;\n",
              "      gap: 12px;\n",
              "    }\n",
              "\n",
              "    .colab-df-convert {\n",
              "      background-color: #E8F0FE;\n",
              "      border: none;\n",
              "      border-radius: 50%;\n",
              "      cursor: pointer;\n",
              "      display: none;\n",
              "      fill: #1967D2;\n",
              "      height: 32px;\n",
              "      padding: 0 0 0 0;\n",
              "      width: 32px;\n",
              "    }\n",
              "\n",
              "    .colab-df-convert:hover {\n",
              "      background-color: #E2EBFA;\n",
              "      box-shadow: 0px 1px 2px rgba(60, 64, 67, 0.3), 0px 1px 3px 1px rgba(60, 64, 67, 0.15);\n",
              "      fill: #174EA6;\n",
              "    }\n",
              "\n",
              "    [theme=dark] .colab-df-convert {\n",
              "      background-color: #3B4455;\n",
              "      fill: #D2E3FC;\n",
              "    }\n",
              "\n",
              "    [theme=dark] .colab-df-convert:hover {\n",
              "      background-color: #434B5C;\n",
              "      box-shadow: 0px 1px 3px 1px rgba(0, 0, 0, 0.15);\n",
              "      filter: drop-shadow(0px 1px 2px rgba(0, 0, 0, 0.3));\n",
              "      fill: #FFFFFF;\n",
              "    }\n",
              "  </style>\n",
              "\n",
              "      <script>\n",
              "        const buttonEl =\n",
              "          document.querySelector('#df-d7f0dda4-ead6-4588-8672-2fa97c842b95 button.colab-df-convert');\n",
              "        buttonEl.style.display =\n",
              "          google.colab.kernel.accessAllowed ? 'block' : 'none';\n",
              "\n",
              "        async function convertToInteractive(key) {\n",
              "          const element = document.querySelector('#df-d7f0dda4-ead6-4588-8672-2fa97c842b95');\n",
              "          const dataTable =\n",
              "            await google.colab.kernel.invokeFunction('convertToInteractive',\n",
              "                                                     [key], {});\n",
              "          if (!dataTable) return;\n",
              "\n",
              "          const docLinkHtml = 'Like what you see? Visit the ' +\n",
              "            '<a target=\"_blank\" href=https://colab.research.google.com/notebooks/data_table.ipynb>data table notebook</a>'\n",
              "            + ' to learn more about interactive tables.';\n",
              "          element.innerHTML = '';\n",
              "          dataTable['output_type'] = 'display_data';\n",
              "          await google.colab.output.renderOutput(dataTable, element);\n",
              "          const docLink = document.createElement('div');\n",
              "          docLink.innerHTML = docLinkHtml;\n",
              "          element.appendChild(docLink);\n",
              "        }\n",
              "      </script>\n",
              "    </div>\n",
              "  </div>\n",
              "  "
            ]
          },
          "metadata": {},
          "execution_count": 3
        }
      ],
      "source": [
        "df.describe()"
      ]
    },
    {
      "cell_type": "code",
      "execution_count": 4,
      "metadata": {
        "id": "8aZOZLT8Gy-T",
        "colab": {
          "base_uri": "https://localhost:8080/",
          "height": 424
        },
        "outputId": "226c8abf-ecde-467b-e28b-e1bd477449e6"
      },
      "outputs": [
        {
          "output_type": "execute_result",
          "data": {
            "text/plain": [
              "                     temperature  relativehumidity  pressure_msl  \\\n",
              "2016-01-01 00:00:00          3.4                87        1027.2   \n",
              "2016-01-01 01:00:00          3.1                91        1026.9   \n",
              "2016-01-01 02:00:00          2.5                94        1026.7   \n",
              "2016-01-01 03:00:00          1.9                95        1026.8   \n",
              "2016-01-01 04:00:00          1.7                96        1026.8   \n",
              "...                          ...               ...           ...   \n",
              "2022-12-31 19:00:00         12.4                89        1030.8   \n",
              "2022-12-31 20:00:00         10.6                94        1031.1   \n",
              "2022-12-31 21:00:00         10.2                91        1031.4   \n",
              "2022-12-31 22:00:00          8.4                96        1031.5   \n",
              "2022-12-31 23:00:00          7.5                98        1031.8   \n",
              "\n",
              "                     precipitation  \n",
              "2016-01-01 00:00:00            0.0  \n",
              "2016-01-01 01:00:00            0.0  \n",
              "2016-01-01 02:00:00            0.0  \n",
              "2016-01-01 03:00:00            0.0  \n",
              "2016-01-01 04:00:00            0.0  \n",
              "...                            ...  \n",
              "2022-12-31 19:00:00            0.0  \n",
              "2022-12-31 20:00:00            0.0  \n",
              "2022-12-31 21:00:00            0.0  \n",
              "2022-12-31 22:00:00            0.0  \n",
              "2022-12-31 23:00:00            0.0  \n",
              "\n",
              "[61368 rows x 4 columns]"
            ],
            "text/html": [
              "\n",
              "  <div id=\"df-17d7d330-f31b-42ea-9d22-4910a909f613\">\n",
              "    <div class=\"colab-df-container\">\n",
              "      <div>\n",
              "<style scoped>\n",
              "    .dataframe tbody tr th:only-of-type {\n",
              "        vertical-align: middle;\n",
              "    }\n",
              "\n",
              "    .dataframe tbody tr th {\n",
              "        vertical-align: top;\n",
              "    }\n",
              "\n",
              "    .dataframe thead th {\n",
              "        text-align: right;\n",
              "    }\n",
              "</style>\n",
              "<table border=\"1\" class=\"dataframe\">\n",
              "  <thead>\n",
              "    <tr style=\"text-align: right;\">\n",
              "      <th></th>\n",
              "      <th>temperature</th>\n",
              "      <th>relativehumidity</th>\n",
              "      <th>pressure_msl</th>\n",
              "      <th>precipitation</th>\n",
              "    </tr>\n",
              "  </thead>\n",
              "  <tbody>\n",
              "    <tr>\n",
              "      <th>2016-01-01 00:00:00</th>\n",
              "      <td>3.4</td>\n",
              "      <td>87</td>\n",
              "      <td>1027.2</td>\n",
              "      <td>0.0</td>\n",
              "    </tr>\n",
              "    <tr>\n",
              "      <th>2016-01-01 01:00:00</th>\n",
              "      <td>3.1</td>\n",
              "      <td>91</td>\n",
              "      <td>1026.9</td>\n",
              "      <td>0.0</td>\n",
              "    </tr>\n",
              "    <tr>\n",
              "      <th>2016-01-01 02:00:00</th>\n",
              "      <td>2.5</td>\n",
              "      <td>94</td>\n",
              "      <td>1026.7</td>\n",
              "      <td>0.0</td>\n",
              "    </tr>\n",
              "    <tr>\n",
              "      <th>2016-01-01 03:00:00</th>\n",
              "      <td>1.9</td>\n",
              "      <td>95</td>\n",
              "      <td>1026.8</td>\n",
              "      <td>0.0</td>\n",
              "    </tr>\n",
              "    <tr>\n",
              "      <th>2016-01-01 04:00:00</th>\n",
              "      <td>1.7</td>\n",
              "      <td>96</td>\n",
              "      <td>1026.8</td>\n",
              "      <td>0.0</td>\n",
              "    </tr>\n",
              "    <tr>\n",
              "      <th>...</th>\n",
              "      <td>...</td>\n",
              "      <td>...</td>\n",
              "      <td>...</td>\n",
              "      <td>...</td>\n",
              "    </tr>\n",
              "    <tr>\n",
              "      <th>2022-12-31 19:00:00</th>\n",
              "      <td>12.4</td>\n",
              "      <td>89</td>\n",
              "      <td>1030.8</td>\n",
              "      <td>0.0</td>\n",
              "    </tr>\n",
              "    <tr>\n",
              "      <th>2022-12-31 20:00:00</th>\n",
              "      <td>10.6</td>\n",
              "      <td>94</td>\n",
              "      <td>1031.1</td>\n",
              "      <td>0.0</td>\n",
              "    </tr>\n",
              "    <tr>\n",
              "      <th>2022-12-31 21:00:00</th>\n",
              "      <td>10.2</td>\n",
              "      <td>91</td>\n",
              "      <td>1031.4</td>\n",
              "      <td>0.0</td>\n",
              "    </tr>\n",
              "    <tr>\n",
              "      <th>2022-12-31 22:00:00</th>\n",
              "      <td>8.4</td>\n",
              "      <td>96</td>\n",
              "      <td>1031.5</td>\n",
              "      <td>0.0</td>\n",
              "    </tr>\n",
              "    <tr>\n",
              "      <th>2022-12-31 23:00:00</th>\n",
              "      <td>7.5</td>\n",
              "      <td>98</td>\n",
              "      <td>1031.8</td>\n",
              "      <td>0.0</td>\n",
              "    </tr>\n",
              "  </tbody>\n",
              "</table>\n",
              "<p>61368 rows × 4 columns</p>\n",
              "</div>\n",
              "      <button class=\"colab-df-convert\" onclick=\"convertToInteractive('df-17d7d330-f31b-42ea-9d22-4910a909f613')\"\n",
              "              title=\"Convert this dataframe to an interactive table.\"\n",
              "              style=\"display:none;\">\n",
              "        \n",
              "  <svg xmlns=\"http://www.w3.org/2000/svg\" height=\"24px\"viewBox=\"0 0 24 24\"\n",
              "       width=\"24px\">\n",
              "    <path d=\"M0 0h24v24H0V0z\" fill=\"none\"/>\n",
              "    <path d=\"M18.56 5.44l.94 2.06.94-2.06 2.06-.94-2.06-.94-.94-2.06-.94 2.06-2.06.94zm-11 1L8.5 8.5l.94-2.06 2.06-.94-2.06-.94L8.5 2.5l-.94 2.06-2.06.94zm10 10l.94 2.06.94-2.06 2.06-.94-2.06-.94-.94-2.06-.94 2.06-2.06.94z\"/><path d=\"M17.41 7.96l-1.37-1.37c-.4-.4-.92-.59-1.43-.59-.52 0-1.04.2-1.43.59L10.3 9.45l-7.72 7.72c-.78.78-.78 2.05 0 2.83L4 21.41c.39.39.9.59 1.41.59.51 0 1.02-.2 1.41-.59l7.78-7.78 2.81-2.81c.8-.78.8-2.07 0-2.86zM5.41 20L4 18.59l7.72-7.72 1.47 1.35L5.41 20z\"/>\n",
              "  </svg>\n",
              "      </button>\n",
              "      \n",
              "  <style>\n",
              "    .colab-df-container {\n",
              "      display:flex;\n",
              "      flex-wrap:wrap;\n",
              "      gap: 12px;\n",
              "    }\n",
              "\n",
              "    .colab-df-convert {\n",
              "      background-color: #E8F0FE;\n",
              "      border: none;\n",
              "      border-radius: 50%;\n",
              "      cursor: pointer;\n",
              "      display: none;\n",
              "      fill: #1967D2;\n",
              "      height: 32px;\n",
              "      padding: 0 0 0 0;\n",
              "      width: 32px;\n",
              "    }\n",
              "\n",
              "    .colab-df-convert:hover {\n",
              "      background-color: #E2EBFA;\n",
              "      box-shadow: 0px 1px 2px rgba(60, 64, 67, 0.3), 0px 1px 3px 1px rgba(60, 64, 67, 0.15);\n",
              "      fill: #174EA6;\n",
              "    }\n",
              "\n",
              "    [theme=dark] .colab-df-convert {\n",
              "      background-color: #3B4455;\n",
              "      fill: #D2E3FC;\n",
              "    }\n",
              "\n",
              "    [theme=dark] .colab-df-convert:hover {\n",
              "      background-color: #434B5C;\n",
              "      box-shadow: 0px 1px 3px 1px rgba(0, 0, 0, 0.15);\n",
              "      filter: drop-shadow(0px 1px 2px rgba(0, 0, 0, 0.3));\n",
              "      fill: #FFFFFF;\n",
              "    }\n",
              "  </style>\n",
              "\n",
              "      <script>\n",
              "        const buttonEl =\n",
              "          document.querySelector('#df-17d7d330-f31b-42ea-9d22-4910a909f613 button.colab-df-convert');\n",
              "        buttonEl.style.display =\n",
              "          google.colab.kernel.accessAllowed ? 'block' : 'none';\n",
              "\n",
              "        async function convertToInteractive(key) {\n",
              "          const element = document.querySelector('#df-17d7d330-f31b-42ea-9d22-4910a909f613');\n",
              "          const dataTable =\n",
              "            await google.colab.kernel.invokeFunction('convertToInteractive',\n",
              "                                                     [key], {});\n",
              "          if (!dataTable) return;\n",
              "\n",
              "          const docLinkHtml = 'Like what you see? Visit the ' +\n",
              "            '<a target=\"_blank\" href=https://colab.research.google.com/notebooks/data_table.ipynb>data table notebook</a>'\n",
              "            + ' to learn more about interactive tables.';\n",
              "          element.innerHTML = '';\n",
              "          dataTable['output_type'] = 'display_data';\n",
              "          await google.colab.output.renderOutput(dataTable, element);\n",
              "          const docLink = document.createElement('div');\n",
              "          docLink.innerHTML = docLinkHtml;\n",
              "          element.appendChild(docLink);\n",
              "        }\n",
              "      </script>\n",
              "    </div>\n",
              "  </div>\n",
              "  "
            ]
          },
          "metadata": {},
          "execution_count": 4
        }
      ],
      "source": [
        "# fill missing dates (if there are any)\n",
        "new_date_range = pd.date_range(start=\"2016-01-01 00:00:00\", end=\"2022-12-31 23:00:00\", freq=\"H\")\n",
        "df = df.reindex(new_date_range, fill_value=np.nan)\n",
        "df"
      ]
    },
    {
      "cell_type": "code",
      "execution_count": 5,
      "metadata": {
        "id": "xFpjSeZzQdIH",
        "colab": {
          "base_uri": "https://localhost:8080/"
        },
        "outputId": "f293a074-fe5e-427b-b735-584edab0f4c1"
      },
      "outputs": [
        {
          "output_type": "execute_result",
          "data": {
            "text/plain": [
              "temperature         0\n",
              "relativehumidity    0\n",
              "pressure_msl        0\n",
              "precipitation       0\n",
              "dtype: int64"
            ]
          },
          "metadata": {},
          "execution_count": 5
        }
      ],
      "source": [
        "df.isnull().sum()"
      ]
    },
    {
      "cell_type": "code",
      "execution_count": 6,
      "metadata": {
        "id": "7B_2oo-K3hWQ",
        "colab": {
          "base_uri": "https://localhost:8080/"
        },
        "outputId": "584beef2-d146-46aa-dee0-412a701a754b"
      },
      "outputs": [
        {
          "output_type": "execute_result",
          "data": {
            "text/plain": [
              "temperature         float64\n",
              "relativehumidity      int64\n",
              "pressure_msl        float64\n",
              "precipitation       float64\n",
              "dtype: object"
            ]
          },
          "metadata": {},
          "execution_count": 6
        }
      ],
      "source": [
        "df.dtypes"
      ]
    },
    {
      "cell_type": "code",
      "execution_count": 7,
      "metadata": {
        "id": "xZOh_ETyCyPg",
        "colab": {
          "base_uri": "https://localhost:8080/"
        },
        "outputId": "1f613c2c-a4f2-4021-e7f2-f22bbce85102"
      },
      "outputs": [
        {
          "output_type": "execute_result",
          "data": {
            "text/plain": [
              "0    54049\n",
              "1     7319\n",
              "Name: precipitation, dtype: int64"
            ]
          },
          "metadata": {},
          "execution_count": 7
        }
      ],
      "source": [
        "df[\"precipitation\"] = df[\"precipitation\"].apply(lambda x: 1 if x > 0 else 0)\n",
        "df[\"precipitation\"].value_counts()"
      ]
    },
    {
      "cell_type": "code",
      "source": [
        "df"
      ],
      "metadata": {
        "id": "AeUj4tYI7Ksc",
        "colab": {
          "base_uri": "https://localhost:8080/",
          "height": 424
        },
        "outputId": "6230d433-4106-4f36-cdaf-8db7d2e5050a"
      },
      "execution_count": 8,
      "outputs": [
        {
          "output_type": "execute_result",
          "data": {
            "text/plain": [
              "                     temperature  relativehumidity  pressure_msl  \\\n",
              "2016-01-01 00:00:00          3.4                87        1027.2   \n",
              "2016-01-01 01:00:00          3.1                91        1026.9   \n",
              "2016-01-01 02:00:00          2.5                94        1026.7   \n",
              "2016-01-01 03:00:00          1.9                95        1026.8   \n",
              "2016-01-01 04:00:00          1.7                96        1026.8   \n",
              "...                          ...               ...           ...   \n",
              "2022-12-31 19:00:00         12.4                89        1030.8   \n",
              "2022-12-31 20:00:00         10.6                94        1031.1   \n",
              "2022-12-31 21:00:00         10.2                91        1031.4   \n",
              "2022-12-31 22:00:00          8.4                96        1031.5   \n",
              "2022-12-31 23:00:00          7.5                98        1031.8   \n",
              "\n",
              "                     precipitation  \n",
              "2016-01-01 00:00:00              0  \n",
              "2016-01-01 01:00:00              0  \n",
              "2016-01-01 02:00:00              0  \n",
              "2016-01-01 03:00:00              0  \n",
              "2016-01-01 04:00:00              0  \n",
              "...                            ...  \n",
              "2022-12-31 19:00:00              0  \n",
              "2022-12-31 20:00:00              0  \n",
              "2022-12-31 21:00:00              0  \n",
              "2022-12-31 22:00:00              0  \n",
              "2022-12-31 23:00:00              0  \n",
              "\n",
              "[61368 rows x 4 columns]"
            ],
            "text/html": [
              "\n",
              "  <div id=\"df-874ed50f-b9cd-46ef-bb82-54501127a202\">\n",
              "    <div class=\"colab-df-container\">\n",
              "      <div>\n",
              "<style scoped>\n",
              "    .dataframe tbody tr th:only-of-type {\n",
              "        vertical-align: middle;\n",
              "    }\n",
              "\n",
              "    .dataframe tbody tr th {\n",
              "        vertical-align: top;\n",
              "    }\n",
              "\n",
              "    .dataframe thead th {\n",
              "        text-align: right;\n",
              "    }\n",
              "</style>\n",
              "<table border=\"1\" class=\"dataframe\">\n",
              "  <thead>\n",
              "    <tr style=\"text-align: right;\">\n",
              "      <th></th>\n",
              "      <th>temperature</th>\n",
              "      <th>relativehumidity</th>\n",
              "      <th>pressure_msl</th>\n",
              "      <th>precipitation</th>\n",
              "    </tr>\n",
              "  </thead>\n",
              "  <tbody>\n",
              "    <tr>\n",
              "      <th>2016-01-01 00:00:00</th>\n",
              "      <td>3.4</td>\n",
              "      <td>87</td>\n",
              "      <td>1027.2</td>\n",
              "      <td>0</td>\n",
              "    </tr>\n",
              "    <tr>\n",
              "      <th>2016-01-01 01:00:00</th>\n",
              "      <td>3.1</td>\n",
              "      <td>91</td>\n",
              "      <td>1026.9</td>\n",
              "      <td>0</td>\n",
              "    </tr>\n",
              "    <tr>\n",
              "      <th>2016-01-01 02:00:00</th>\n",
              "      <td>2.5</td>\n",
              "      <td>94</td>\n",
              "      <td>1026.7</td>\n",
              "      <td>0</td>\n",
              "    </tr>\n",
              "    <tr>\n",
              "      <th>2016-01-01 03:00:00</th>\n",
              "      <td>1.9</td>\n",
              "      <td>95</td>\n",
              "      <td>1026.8</td>\n",
              "      <td>0</td>\n",
              "    </tr>\n",
              "    <tr>\n",
              "      <th>2016-01-01 04:00:00</th>\n",
              "      <td>1.7</td>\n",
              "      <td>96</td>\n",
              "      <td>1026.8</td>\n",
              "      <td>0</td>\n",
              "    </tr>\n",
              "    <tr>\n",
              "      <th>...</th>\n",
              "      <td>...</td>\n",
              "      <td>...</td>\n",
              "      <td>...</td>\n",
              "      <td>...</td>\n",
              "    </tr>\n",
              "    <tr>\n",
              "      <th>2022-12-31 19:00:00</th>\n",
              "      <td>12.4</td>\n",
              "      <td>89</td>\n",
              "      <td>1030.8</td>\n",
              "      <td>0</td>\n",
              "    </tr>\n",
              "    <tr>\n",
              "      <th>2022-12-31 20:00:00</th>\n",
              "      <td>10.6</td>\n",
              "      <td>94</td>\n",
              "      <td>1031.1</td>\n",
              "      <td>0</td>\n",
              "    </tr>\n",
              "    <tr>\n",
              "      <th>2022-12-31 21:00:00</th>\n",
              "      <td>10.2</td>\n",
              "      <td>91</td>\n",
              "      <td>1031.4</td>\n",
              "      <td>0</td>\n",
              "    </tr>\n",
              "    <tr>\n",
              "      <th>2022-12-31 22:00:00</th>\n",
              "      <td>8.4</td>\n",
              "      <td>96</td>\n",
              "      <td>1031.5</td>\n",
              "      <td>0</td>\n",
              "    </tr>\n",
              "    <tr>\n",
              "      <th>2022-12-31 23:00:00</th>\n",
              "      <td>7.5</td>\n",
              "      <td>98</td>\n",
              "      <td>1031.8</td>\n",
              "      <td>0</td>\n",
              "    </tr>\n",
              "  </tbody>\n",
              "</table>\n",
              "<p>61368 rows × 4 columns</p>\n",
              "</div>\n",
              "      <button class=\"colab-df-convert\" onclick=\"convertToInteractive('df-874ed50f-b9cd-46ef-bb82-54501127a202')\"\n",
              "              title=\"Convert this dataframe to an interactive table.\"\n",
              "              style=\"display:none;\">\n",
              "        \n",
              "  <svg xmlns=\"http://www.w3.org/2000/svg\" height=\"24px\"viewBox=\"0 0 24 24\"\n",
              "       width=\"24px\">\n",
              "    <path d=\"M0 0h24v24H0V0z\" fill=\"none\"/>\n",
              "    <path d=\"M18.56 5.44l.94 2.06.94-2.06 2.06-.94-2.06-.94-.94-2.06-.94 2.06-2.06.94zm-11 1L8.5 8.5l.94-2.06 2.06-.94-2.06-.94L8.5 2.5l-.94 2.06-2.06.94zm10 10l.94 2.06.94-2.06 2.06-.94-2.06-.94-.94-2.06-.94 2.06-2.06.94z\"/><path d=\"M17.41 7.96l-1.37-1.37c-.4-.4-.92-.59-1.43-.59-.52 0-1.04.2-1.43.59L10.3 9.45l-7.72 7.72c-.78.78-.78 2.05 0 2.83L4 21.41c.39.39.9.59 1.41.59.51 0 1.02-.2 1.41-.59l7.78-7.78 2.81-2.81c.8-.78.8-2.07 0-2.86zM5.41 20L4 18.59l7.72-7.72 1.47 1.35L5.41 20z\"/>\n",
              "  </svg>\n",
              "      </button>\n",
              "      \n",
              "  <style>\n",
              "    .colab-df-container {\n",
              "      display:flex;\n",
              "      flex-wrap:wrap;\n",
              "      gap: 12px;\n",
              "    }\n",
              "\n",
              "    .colab-df-convert {\n",
              "      background-color: #E8F0FE;\n",
              "      border: none;\n",
              "      border-radius: 50%;\n",
              "      cursor: pointer;\n",
              "      display: none;\n",
              "      fill: #1967D2;\n",
              "      height: 32px;\n",
              "      padding: 0 0 0 0;\n",
              "      width: 32px;\n",
              "    }\n",
              "\n",
              "    .colab-df-convert:hover {\n",
              "      background-color: #E2EBFA;\n",
              "      box-shadow: 0px 1px 2px rgba(60, 64, 67, 0.3), 0px 1px 3px 1px rgba(60, 64, 67, 0.15);\n",
              "      fill: #174EA6;\n",
              "    }\n",
              "\n",
              "    [theme=dark] .colab-df-convert {\n",
              "      background-color: #3B4455;\n",
              "      fill: #D2E3FC;\n",
              "    }\n",
              "\n",
              "    [theme=dark] .colab-df-convert:hover {\n",
              "      background-color: #434B5C;\n",
              "      box-shadow: 0px 1px 3px 1px rgba(0, 0, 0, 0.15);\n",
              "      filter: drop-shadow(0px 1px 2px rgba(0, 0, 0, 0.3));\n",
              "      fill: #FFFFFF;\n",
              "    }\n",
              "  </style>\n",
              "\n",
              "      <script>\n",
              "        const buttonEl =\n",
              "          document.querySelector('#df-874ed50f-b9cd-46ef-bb82-54501127a202 button.colab-df-convert');\n",
              "        buttonEl.style.display =\n",
              "          google.colab.kernel.accessAllowed ? 'block' : 'none';\n",
              "\n",
              "        async function convertToInteractive(key) {\n",
              "          const element = document.querySelector('#df-874ed50f-b9cd-46ef-bb82-54501127a202');\n",
              "          const dataTable =\n",
              "            await google.colab.kernel.invokeFunction('convertToInteractive',\n",
              "                                                     [key], {});\n",
              "          if (!dataTable) return;\n",
              "\n",
              "          const docLinkHtml = 'Like what you see? Visit the ' +\n",
              "            '<a target=\"_blank\" href=https://colab.research.google.com/notebooks/data_table.ipynb>data table notebook</a>'\n",
              "            + ' to learn more about interactive tables.';\n",
              "          element.innerHTML = '';\n",
              "          dataTable['output_type'] = 'display_data';\n",
              "          await google.colab.output.renderOutput(dataTable, element);\n",
              "          const docLink = document.createElement('div');\n",
              "          docLink.innerHTML = docLinkHtml;\n",
              "          element.appendChild(docLink);\n",
              "        }\n",
              "      </script>\n",
              "    </div>\n",
              "  </div>\n",
              "  "
            ]
          },
          "metadata": {},
          "execution_count": 8
        }
      ]
    },
    {
      "cell_type": "code",
      "execution_count": 9,
      "metadata": {
        "id": "BFfkBgTFGGhX"
      },
      "outputs": [],
      "source": [
        "features = features_and_target[:-1]\n",
        "for feat in features:\n",
        "  df[f\"{feat}_diff\"] = df[feat].diff(periods=1)\n",
        "\n",
        "# remove first two records\n",
        "df = df[1:]"
      ]
    },
    {
      "cell_type": "code",
      "execution_count": 10,
      "metadata": {
        "id": "pvpXp3sBXEFd",
        "colab": {
          "base_uri": "https://localhost:8080/",
          "height": 424
        },
        "outputId": "f5543d47-ffbf-4581-d750-8c2a6fac2cb2"
      },
      "outputs": [
        {
          "output_type": "execute_result",
          "data": {
            "text/plain": [
              "                     temperature  relativehumidity  pressure_msl  \\\n",
              "2016-01-01 01:00:00          3.1                91        1026.9   \n",
              "2016-01-01 02:00:00          2.5                94        1026.7   \n",
              "2016-01-01 03:00:00          1.9                95        1026.8   \n",
              "2016-01-01 04:00:00          1.7                96        1026.8   \n",
              "2016-01-01 05:00:00          1.5                96        1026.7   \n",
              "...                          ...               ...           ...   \n",
              "2022-12-31 19:00:00         12.4                89        1030.8   \n",
              "2022-12-31 20:00:00         10.6                94        1031.1   \n",
              "2022-12-31 21:00:00         10.2                91        1031.4   \n",
              "2022-12-31 22:00:00          8.4                96        1031.5   \n",
              "2022-12-31 23:00:00          7.5                98        1031.8   \n",
              "\n",
              "                     precipitation  temperature_diff  relativehumidity_diff  \\\n",
              "2016-01-01 01:00:00              0              -0.3                    4.0   \n",
              "2016-01-01 02:00:00              0              -0.6                    3.0   \n",
              "2016-01-01 03:00:00              0              -0.6                    1.0   \n",
              "2016-01-01 04:00:00              0              -0.2                    1.0   \n",
              "2016-01-01 05:00:00              0              -0.2                    0.0   \n",
              "...                            ...               ...                    ...   \n",
              "2022-12-31 19:00:00              0              -0.3                   -1.0   \n",
              "2022-12-31 20:00:00              0              -1.8                    5.0   \n",
              "2022-12-31 21:00:00              0              -0.4                   -3.0   \n",
              "2022-12-31 22:00:00              0              -1.8                    5.0   \n",
              "2022-12-31 23:00:00              0              -0.9                    2.0   \n",
              "\n",
              "                     pressure_msl_diff  \n",
              "2016-01-01 01:00:00               -0.3  \n",
              "2016-01-01 02:00:00               -0.2  \n",
              "2016-01-01 03:00:00                0.1  \n",
              "2016-01-01 04:00:00                0.0  \n",
              "2016-01-01 05:00:00               -0.1  \n",
              "...                                ...  \n",
              "2022-12-31 19:00:00                0.2  \n",
              "2022-12-31 20:00:00                0.3  \n",
              "2022-12-31 21:00:00                0.3  \n",
              "2022-12-31 22:00:00                0.1  \n",
              "2022-12-31 23:00:00                0.3  \n",
              "\n",
              "[61367 rows x 7 columns]"
            ],
            "text/html": [
              "\n",
              "  <div id=\"df-28adcc5d-a876-407d-83b3-410d4e4af607\">\n",
              "    <div class=\"colab-df-container\">\n",
              "      <div>\n",
              "<style scoped>\n",
              "    .dataframe tbody tr th:only-of-type {\n",
              "        vertical-align: middle;\n",
              "    }\n",
              "\n",
              "    .dataframe tbody tr th {\n",
              "        vertical-align: top;\n",
              "    }\n",
              "\n",
              "    .dataframe thead th {\n",
              "        text-align: right;\n",
              "    }\n",
              "</style>\n",
              "<table border=\"1\" class=\"dataframe\">\n",
              "  <thead>\n",
              "    <tr style=\"text-align: right;\">\n",
              "      <th></th>\n",
              "      <th>temperature</th>\n",
              "      <th>relativehumidity</th>\n",
              "      <th>pressure_msl</th>\n",
              "      <th>precipitation</th>\n",
              "      <th>temperature_diff</th>\n",
              "      <th>relativehumidity_diff</th>\n",
              "      <th>pressure_msl_diff</th>\n",
              "    </tr>\n",
              "  </thead>\n",
              "  <tbody>\n",
              "    <tr>\n",
              "      <th>2016-01-01 01:00:00</th>\n",
              "      <td>3.1</td>\n",
              "      <td>91</td>\n",
              "      <td>1026.9</td>\n",
              "      <td>0</td>\n",
              "      <td>-0.3</td>\n",
              "      <td>4.0</td>\n",
              "      <td>-0.3</td>\n",
              "    </tr>\n",
              "    <tr>\n",
              "      <th>2016-01-01 02:00:00</th>\n",
              "      <td>2.5</td>\n",
              "      <td>94</td>\n",
              "      <td>1026.7</td>\n",
              "      <td>0</td>\n",
              "      <td>-0.6</td>\n",
              "      <td>3.0</td>\n",
              "      <td>-0.2</td>\n",
              "    </tr>\n",
              "    <tr>\n",
              "      <th>2016-01-01 03:00:00</th>\n",
              "      <td>1.9</td>\n",
              "      <td>95</td>\n",
              "      <td>1026.8</td>\n",
              "      <td>0</td>\n",
              "      <td>-0.6</td>\n",
              "      <td>1.0</td>\n",
              "      <td>0.1</td>\n",
              "    </tr>\n",
              "    <tr>\n",
              "      <th>2016-01-01 04:00:00</th>\n",
              "      <td>1.7</td>\n",
              "      <td>96</td>\n",
              "      <td>1026.8</td>\n",
              "      <td>0</td>\n",
              "      <td>-0.2</td>\n",
              "      <td>1.0</td>\n",
              "      <td>0.0</td>\n",
              "    </tr>\n",
              "    <tr>\n",
              "      <th>2016-01-01 05:00:00</th>\n",
              "      <td>1.5</td>\n",
              "      <td>96</td>\n",
              "      <td>1026.7</td>\n",
              "      <td>0</td>\n",
              "      <td>-0.2</td>\n",
              "      <td>0.0</td>\n",
              "      <td>-0.1</td>\n",
              "    </tr>\n",
              "    <tr>\n",
              "      <th>...</th>\n",
              "      <td>...</td>\n",
              "      <td>...</td>\n",
              "      <td>...</td>\n",
              "      <td>...</td>\n",
              "      <td>...</td>\n",
              "      <td>...</td>\n",
              "      <td>...</td>\n",
              "    </tr>\n",
              "    <tr>\n",
              "      <th>2022-12-31 19:00:00</th>\n",
              "      <td>12.4</td>\n",
              "      <td>89</td>\n",
              "      <td>1030.8</td>\n",
              "      <td>0</td>\n",
              "      <td>-0.3</td>\n",
              "      <td>-1.0</td>\n",
              "      <td>0.2</td>\n",
              "    </tr>\n",
              "    <tr>\n",
              "      <th>2022-12-31 20:00:00</th>\n",
              "      <td>10.6</td>\n",
              "      <td>94</td>\n",
              "      <td>1031.1</td>\n",
              "      <td>0</td>\n",
              "      <td>-1.8</td>\n",
              "      <td>5.0</td>\n",
              "      <td>0.3</td>\n",
              "    </tr>\n",
              "    <tr>\n",
              "      <th>2022-12-31 21:00:00</th>\n",
              "      <td>10.2</td>\n",
              "      <td>91</td>\n",
              "      <td>1031.4</td>\n",
              "      <td>0</td>\n",
              "      <td>-0.4</td>\n",
              "      <td>-3.0</td>\n",
              "      <td>0.3</td>\n",
              "    </tr>\n",
              "    <tr>\n",
              "      <th>2022-12-31 22:00:00</th>\n",
              "      <td>8.4</td>\n",
              "      <td>96</td>\n",
              "      <td>1031.5</td>\n",
              "      <td>0</td>\n",
              "      <td>-1.8</td>\n",
              "      <td>5.0</td>\n",
              "      <td>0.1</td>\n",
              "    </tr>\n",
              "    <tr>\n",
              "      <th>2022-12-31 23:00:00</th>\n",
              "      <td>7.5</td>\n",
              "      <td>98</td>\n",
              "      <td>1031.8</td>\n",
              "      <td>0</td>\n",
              "      <td>-0.9</td>\n",
              "      <td>2.0</td>\n",
              "      <td>0.3</td>\n",
              "    </tr>\n",
              "  </tbody>\n",
              "</table>\n",
              "<p>61367 rows × 7 columns</p>\n",
              "</div>\n",
              "      <button class=\"colab-df-convert\" onclick=\"convertToInteractive('df-28adcc5d-a876-407d-83b3-410d4e4af607')\"\n",
              "              title=\"Convert this dataframe to an interactive table.\"\n",
              "              style=\"display:none;\">\n",
              "        \n",
              "  <svg xmlns=\"http://www.w3.org/2000/svg\" height=\"24px\"viewBox=\"0 0 24 24\"\n",
              "       width=\"24px\">\n",
              "    <path d=\"M0 0h24v24H0V0z\" fill=\"none\"/>\n",
              "    <path d=\"M18.56 5.44l.94 2.06.94-2.06 2.06-.94-2.06-.94-.94-2.06-.94 2.06-2.06.94zm-11 1L8.5 8.5l.94-2.06 2.06-.94-2.06-.94L8.5 2.5l-.94 2.06-2.06.94zm10 10l.94 2.06.94-2.06 2.06-.94-2.06-.94-.94-2.06-.94 2.06-2.06.94z\"/><path d=\"M17.41 7.96l-1.37-1.37c-.4-.4-.92-.59-1.43-.59-.52 0-1.04.2-1.43.59L10.3 9.45l-7.72 7.72c-.78.78-.78 2.05 0 2.83L4 21.41c.39.39.9.59 1.41.59.51 0 1.02-.2 1.41-.59l7.78-7.78 2.81-2.81c.8-.78.8-2.07 0-2.86zM5.41 20L4 18.59l7.72-7.72 1.47 1.35L5.41 20z\"/>\n",
              "  </svg>\n",
              "      </button>\n",
              "      \n",
              "  <style>\n",
              "    .colab-df-container {\n",
              "      display:flex;\n",
              "      flex-wrap:wrap;\n",
              "      gap: 12px;\n",
              "    }\n",
              "\n",
              "    .colab-df-convert {\n",
              "      background-color: #E8F0FE;\n",
              "      border: none;\n",
              "      border-radius: 50%;\n",
              "      cursor: pointer;\n",
              "      display: none;\n",
              "      fill: #1967D2;\n",
              "      height: 32px;\n",
              "      padding: 0 0 0 0;\n",
              "      width: 32px;\n",
              "    }\n",
              "\n",
              "    .colab-df-convert:hover {\n",
              "      background-color: #E2EBFA;\n",
              "      box-shadow: 0px 1px 2px rgba(60, 64, 67, 0.3), 0px 1px 3px 1px rgba(60, 64, 67, 0.15);\n",
              "      fill: #174EA6;\n",
              "    }\n",
              "\n",
              "    [theme=dark] .colab-df-convert {\n",
              "      background-color: #3B4455;\n",
              "      fill: #D2E3FC;\n",
              "    }\n",
              "\n",
              "    [theme=dark] .colab-df-convert:hover {\n",
              "      background-color: #434B5C;\n",
              "      box-shadow: 0px 1px 3px 1px rgba(0, 0, 0, 0.15);\n",
              "      filter: drop-shadow(0px 1px 2px rgba(0, 0, 0, 0.3));\n",
              "      fill: #FFFFFF;\n",
              "    }\n",
              "  </style>\n",
              "\n",
              "      <script>\n",
              "        const buttonEl =\n",
              "          document.querySelector('#df-28adcc5d-a876-407d-83b3-410d4e4af607 button.colab-df-convert');\n",
              "        buttonEl.style.display =\n",
              "          google.colab.kernel.accessAllowed ? 'block' : 'none';\n",
              "\n",
              "        async function convertToInteractive(key) {\n",
              "          const element = document.querySelector('#df-28adcc5d-a876-407d-83b3-410d4e4af607');\n",
              "          const dataTable =\n",
              "            await google.colab.kernel.invokeFunction('convertToInteractive',\n",
              "                                                     [key], {});\n",
              "          if (!dataTable) return;\n",
              "\n",
              "          const docLinkHtml = 'Like what you see? Visit the ' +\n",
              "            '<a target=\"_blank\" href=https://colab.research.google.com/notebooks/data_table.ipynb>data table notebook</a>'\n",
              "            + ' to learn more about interactive tables.';\n",
              "          element.innerHTML = '';\n",
              "          dataTable['output_type'] = 'display_data';\n",
              "          await google.colab.output.renderOutput(dataTable, element);\n",
              "          const docLink = document.createElement('div');\n",
              "          docLink.innerHTML = docLinkHtml;\n",
              "          element.appendChild(docLink);\n",
              "        }\n",
              "      </script>\n",
              "    </div>\n",
              "  </div>\n",
              "  "
            ]
          },
          "metadata": {},
          "execution_count": 10
        }
      ],
      "source": [
        "df"
      ]
    },
    {
      "cell_type": "code",
      "execution_count": 11,
      "metadata": {
        "id": "bAmYMBbgC_Xj",
        "colab": {
          "base_uri": "https://localhost:8080/"
        },
        "outputId": "3f1b278e-4855-4d44-b2d5-f5ecf4a11de4"
      },
      "outputs": [
        {
          "output_type": "stream",
          "name": "stderr",
          "text": [
            "<ipython-input-11-bbe19e4c6c49>:1: SettingWithCopyWarning: \n",
            "A value is trying to be set on a copy of a slice from a DataFrame.\n",
            "Try using .loc[row_indexer,col_indexer] = value instead\n",
            "\n",
            "See the caveats in the documentation: https://pandas.pydata.org/pandas-docs/stable/user_guide/indexing.html#returning-a-view-versus-a-copy\n",
            "  df[\"precipitation_next_hour\"] = df[\"precipitation\"].shift(-1)\n",
            "<ipython-input-11-bbe19e4c6c49>:3: SettingWithCopyWarning: \n",
            "A value is trying to be set on a copy of a slice from a DataFrame.\n",
            "Try using .loc[row_indexer,col_indexer] = value instead\n",
            "\n",
            "See the caveats in the documentation: https://pandas.pydata.org/pandas-docs/stable/user_guide/indexing.html#returning-a-view-versus-a-copy\n",
            "  df[\"precipitation_next_hour\"] = df[\"precipitation_next_hour\"].astype(int)\n",
            "<ipython-input-11-bbe19e4c6c49>:4: SettingWithCopyWarning: \n",
            "A value is trying to be set on a copy of a slice from a DataFrame\n",
            "\n",
            "See the caveats in the documentation: https://pandas.pydata.org/pandas-docs/stable/user_guide/indexing.html#returning-a-view-versus-a-copy\n",
            "  df.drop(columns=[\"precipitation\"], inplace=True)\n"
          ]
        }
      ],
      "source": [
        "df[\"precipitation_next_hour\"] = df[\"precipitation\"].shift(-1)\n",
        "df = df[:-1]\n",
        "df[\"precipitation_next_hour\"] = df[\"precipitation_next_hour\"].astype(int)\n",
        "df.drop(columns=[\"precipitation\"], inplace=True)"
      ]
    },
    {
      "cell_type": "code",
      "execution_count": 12,
      "metadata": {
        "id": "UrQwdeFtwZT9",
        "colab": {
          "base_uri": "https://localhost:8080/",
          "height": 565
        },
        "outputId": "5abf914e-16c9-458a-f596-6951d8caf894"
      },
      "outputs": [
        {
          "output_type": "display_data",
          "data": {
            "text/plain": [
              "<Figure size 640x480 with 2 Axes>"
            ],
            "image/png": "[encoded data removed]"
          },
          "metadata": {}
        }
      ],
      "source": [
        "import seaborn as sns\n",
        "%matplotlib inline\n",
        "\n",
        "features = df.columns[:-1]\n",
        "\n",
        "sns.heatmap(df[features].corr())\n",
        "plt.savefig('correlation.png', dpi=300)"
      ]
    },
    {
      "cell_type": "code",
      "execution_count": 13,
      "metadata": {
        "id": "42GZzHRFMAjQ",
        "colab": {
          "base_uri": "https://localhost:8080/",
          "height": 450
        },
        "outputId": "57ed6f88-2016-4d02-97ea-fcc2ebee2aa8"
      },
      "outputs": [
        {
          "output_type": "display_data",
          "data": {
            "text/plain": [
              "<Figure size 640x480 with 1 Axes>"
            ],
            "image/png": "[encoded data removed]"
          },
          "metadata": {}
        }
      ],
      "source": [
        "g = df.groupby('precipitation_next_hour')\n",
        "df = pd.DataFrame(g.apply(lambda x: x.sample(g.size().min()).reset_index(drop=True)))\n",
        "sns.histplot(df[\"precipitation_next_hour\"])\n",
        "plt.savefig(\"count_target.png\", dpi=300)"
      ]
    },
    {
      "cell_type": "code",
      "source": [
        "df[\"precipitation_next_hour\"].value_counts()"
      ],
      "metadata": {
        "id": "_y5wjwlx5xCx",
        "colab": {
          "base_uri": "https://localhost:8080/"
        },
        "outputId": "0edf90bd-99bc-4a45-fa66-f01e73991ea0"
      },
      "execution_count": 14,
      "outputs": [
        {
          "output_type": "execute_result",
          "data": {
            "text/plain": [
              "0    7319\n",
              "1    7319\n",
              "Name: precipitation_next_hour, dtype: int64"
            ]
          },
          "metadata": {},
          "execution_count": 14
        }
      ]
    },
    {
      "cell_type": "code",
      "execution_count": 15,
      "metadata": {
        "id": "g74fAvEuYEXi"
      },
      "outputs": [],
      "source": [
        "X = df[features].values\n",
        "y = df[[\"precipitation_next_hour\"]].values"
      ]
    },
    {
      "cell_type": "code",
      "source": [
        "from sklearn.model_selection import train_test_split\n",
        "X_train, X_test, y_train, y_test = train_test_split(X, y, stratify=y, test_size=0.2,  shuffle=True, random_state=42)"
      ],
      "metadata": {
        "id": "cjEHFo0_6cpP"
      },
      "execution_count": 16,
      "outputs": []
    },
    {
      "cell_type": "code",
      "execution_count": 17,
      "metadata": {
        "id": "uHdCdvsncRGt"
      },
      "outputs": [],
      "source": [
        "# Apply normalization\n",
        "from sklearn.preprocessing import StandardScaler\n",
        "scaler = StandardScaler()\n",
        "\n",
        "X_train = scaler.fit_transform(X_train)\n",
        "X_test = scaler.transform(X_test)"
      ]
    },
    {
      "cell_type": "code",
      "execution_count": 18,
      "metadata": {
        "id": "o-k-2Y4fgp8Z",
        "colab": {
          "base_uri": "https://localhost:8080/"
        },
        "outputId": "af4f2496-ab73-41a2-d209-fb434eecfa3d"
      },
      "outputs": [
        {
          "output_type": "execute_result",
          "data": {
            "text/plain": [
              "['./scaler.save']"
            ]
          },
          "metadata": {},
          "execution_count": 18
        }
      ],
      "source": [
        "# save scaler to file\n",
        "import joblib\n",
        "joblib.dump(scaler, \"./scaler.save\")"
      ]
    },
    {
      "cell_type": "code",
      "source": [
        "# Create validation set\n",
        "X_train, X_valid, y_train, y_valid = train_test_split(X_train, y_train, stratify=y_train, test_size=0.2, shuffle=True)"
      ],
      "metadata": {
        "id": "SZvP2MJrLhxB"
      },
      "execution_count": 19,
      "outputs": []
    },
    {
      "cell_type": "markdown",
      "metadata": {
        "id": "_hw987OOCz9U"
      },
      "source": [
        "# Neural Net"
      ]
    },
    {
      "cell_type": "code",
      "execution_count": 20,
      "metadata": {
        "id": "85vGmlQsZLVY"
      },
      "outputs": [],
      "source": [
        "import torch\n",
        "X_train = torch.from_numpy(X_train).float()\n",
        "y_train = torch.squeeze(torch.from_numpy(y_train).float())\n",
        "\n",
        "X_valid = torch.from_numpy(X_valid).float()\n",
        "y_valid = torch.squeeze(torch.from_numpy(y_valid).float())\n",
        "\n",
        "X_test = torch.from_numpy(X_test).float()\n",
        "y_test = torch.squeeze(torch.from_numpy(y_test).float())"
      ]
    },
    {
      "cell_type": "code",
      "execution_count": 21,
      "metadata": {
        "id": "w3kAVnWqZ_Hg",
        "colab": {
          "base_uri": "https://localhost:8080/"
        },
        "outputId": "dcc9a4d6-711b-420a-a7ae-fbce9ab430b6"
      },
      "outputs": [
        {
          "output_type": "stream",
          "name": "stdout",
          "text": [
            "torch.Size([9368, 6]) torch.Size([9368])\n",
            "torch.Size([2342, 6]) torch.Size([2342])\n",
            "torch.Size([2928, 6]) torch.Size([2928])\n"
          ]
        }
      ],
      "source": [
        "print(X_train.shape, y_train.shape)\n",
        "print(X_valid.shape, y_valid.shape)\n",
        "print(X_test.shape, y_test.shape)"
      ]
    },
    {
      "cell_type": "code",
      "execution_count": 22,
      "metadata": {
        "id": "fj1Uq2r1aMm9"
      },
      "outputs": [],
      "source": [
        "import torch.nn as nn\n",
        "import torch.nn.functional as func\n",
        "\n",
        "# Create the model\n",
        "class Model(nn.Module):\n",
        "  def __init__(self, n_features):\n",
        "    super(Model, self).__init__()\n",
        "    self.fc1 = nn.Linear(n_features, 64)\n",
        "    self.fc2 = nn.Linear(64, 128)\n",
        "    self.fc3 = nn.Linear(128, 1)\n",
        "\n",
        "    #self.dropout = nn.Dropout(0.2)\n",
        "\n",
        "  def forward(self, x):\n",
        "    x = func.relu(self.fc1(x))\n",
        "    x = func.relu(self.fc2(x))\n",
        "    return torch.sigmoid(self.fc3(x))"
      ]
    },
    {
      "cell_type": "code",
      "execution_count": 23,
      "metadata": {
        "id": "rBX7VPsJa_iD"
      },
      "outputs": [],
      "source": [
        "model = Model(X_train.shape[1])"
      ]
    },
    {
      "cell_type": "code",
      "execution_count": 24,
      "metadata": {
        "id": "VJ974vipbG2J"
      },
      "outputs": [],
      "source": [
        "import torch.optim as optim\n",
        "\n",
        "# Criterion\n",
        "criterion = nn.BCELoss()\n",
        "# Optimizer\n",
        "optimizer = optim.Adam(model.parameters(), lr=0.001)"
      ]
    },
    {
      "cell_type": "code",
      "execution_count": 25,
      "metadata": {
        "id": "EBUJYfxsbaEU"
      },
      "outputs": [],
      "source": [
        "device = torch.device(\"cuda\" if torch.cuda.is_available() else \"cpu\")"
      ]
    },
    {
      "cell_type": "code",
      "execution_count": 26,
      "metadata": {
        "id": "_5VwBG_NCXVC"
      },
      "outputs": [],
      "source": [
        "model = model.to(device)\n",
        "criterion = criterion.to(device)"
      ]
    },
    {
      "cell_type": "code",
      "source": [
        "from torch.utils.data import DataLoader, TensorDataset\n",
        "train_dataset = TensorDataset(X_train, y_train)\n",
        "train_loader = DataLoader(train_dataset, batch_size=150)\n",
        "\n",
        "valid_dataset = TensorDataset(X_valid, y_valid)\n",
        "valid_loader = DataLoader(valid_dataset, batch_size=150)"
      ],
      "metadata": {
        "id": "ssJRWnSgHsTy"
      },
      "execution_count": 27,
      "outputs": []
    },
    {
      "cell_type": "code",
      "execution_count": 28,
      "metadata": {
        "id": "OnmnW36jQxDp",
        "colab": {
          "base_uri": "https://localhost:8080/",
          "height": 1000
        },
        "outputId": "3e97bbc8-1d89-4f84-d33f-875369811b8b"
      },
      "outputs": [
        {
          "output_type": "stream",
          "name": "stdout",
          "text": [
            "Epoch 1\tTraining loss: 0.607331\tValid loss: 0.586380\n",
            "Validation loss decreased: inf -> 0.586380. Saving model...\n",
            "\n",
            "Epoch 2\tTraining loss: 0.574157\tValid loss: 0.574549\n",
            "Validation loss decreased: 0.586380 -> 0.574549. Saving model...\n",
            "\n",
            "Epoch 3\tTraining loss: 0.564429\tValid loss: 0.565401\n",
            "Validation loss decreased: 0.574549 -> 0.565401. Saving model...\n",
            "\n",
            "Epoch 4\tTraining loss: 0.556789\tValid loss: 0.558482\n",
            "Validation loss decreased: 0.565401 -> 0.558482. Saving model...\n",
            "\n",
            "Epoch 5\tTraining loss: 0.550966\tValid loss: 0.553731\n",
            "Validation loss decreased: 0.558482 -> 0.553731. Saving model...\n",
            "\n",
            "Epoch 6\tTraining loss: 0.546774\tValid loss: 0.550410\n",
            "Validation loss decreased: 0.553731 -> 0.550410. Saving model...\n",
            "\n",
            "Epoch 7\tTraining loss: 0.543429\tValid loss: 0.547958\n",
            "Validation loss decreased: 0.550410 -> 0.547958. Saving model...\n",
            "\n",
            "Epoch 8\tTraining loss: 0.540627\tValid loss: 0.546042\n",
            "Validation loss decreased: 0.547958 -> 0.546042. Saving model...\n",
            "\n",
            "Epoch 9\tTraining loss: 0.538143\tValid loss: 0.544315\n",
            "Validation loss decreased: 0.546042 -> 0.544315. Saving model...\n",
            "\n",
            "Epoch 10\tTraining loss: 0.535892\tValid loss: 0.542954\n",
            "Validation loss decreased: 0.544315 -> 0.542954. Saving model...\n",
            "\n",
            "Epoch 11\tTraining loss: 0.533907\tValid loss: 0.541674\n",
            "Validation loss decreased: 0.542954 -> 0.541674. Saving model...\n",
            "\n",
            "Epoch 12\tTraining loss: 0.531973\tValid loss: 0.540552\n",
            "Validation loss decreased: 0.541674 -> 0.540552. Saving model...\n",
            "\n",
            "Epoch 13\tTraining loss: 0.530239\tValid loss: 0.539781\n",
            "Validation loss decreased: 0.540552 -> 0.539781. Saving model...\n",
            "\n",
            "Epoch 14\tTraining loss: 0.528573\tValid loss: 0.538819\n",
            "Validation loss decreased: 0.539781 -> 0.538819. Saving model...\n",
            "\n",
            "Epoch 15\tTraining loss: 0.526851\tValid loss: 0.538088\n",
            "Validation loss decreased: 0.538819 -> 0.538088. Saving model...\n",
            "\n",
            "Epoch 16\tTraining loss: 0.525339\tValid loss: 0.537520\n",
            "Validation loss decreased: 0.538088 -> 0.537520. Saving model...\n",
            "\n",
            "Epoch 17\tTraining loss: 0.523922\tValid loss: 0.537101\n",
            "Validation loss decreased: 0.537520 -> 0.537101. Saving model...\n",
            "\n",
            "Epoch 18\tTraining loss: 0.522699\tValid loss: 0.536773\n",
            "Validation loss decreased: 0.537101 -> 0.536773. Saving model...\n",
            "\n",
            "Epoch 19\tTraining loss: 0.521476\tValid loss: 0.536429\n",
            "Validation loss decreased: 0.536773 -> 0.536429. Saving model...\n",
            "\n",
            "Epoch 20\tTraining loss: 0.520267\tValid loss: 0.536140\n",
            "Validation loss decreased: 0.536429 -> 0.536140. Saving model...\n",
            "\n",
            "Epoch 21\tTraining loss: 0.519189\tValid loss: 0.535986\n",
            "Validation loss decreased: 0.536140 -> 0.535986. Saving model...\n",
            "\n",
            "Epoch 22\tTraining loss: 0.518183\tValid loss: 0.535684\n",
            "Validation loss decreased: 0.535986 -> 0.535684. Saving model...\n",
            "\n",
            "Epoch 23\tTraining loss: 0.517133\tValid loss: 0.535629\n",
            "Validation loss decreased: 0.535684 -> 0.535629. Saving model...\n",
            "\n",
            "Epoch 24\tTraining loss: 0.516232\tValid loss: 0.535448\n",
            "Validation loss decreased: 0.535629 -> 0.535448. Saving model...\n",
            "\n",
            "Epoch 25\tTraining loss: 0.515383\tValid loss: 0.535338\n",
            "Validation loss decreased: 0.535448 -> 0.535338. Saving model...\n",
            "\n",
            "Epoch 26\tTraining loss: 0.514513\tValid loss: 0.535215\n",
            "Validation loss decreased: 0.535338 -> 0.535215. Saving model...\n",
            "\n",
            "Epoch 27\tTraining loss: 0.513748\tValid loss: 0.535164\n",
            "Validation loss decreased: 0.535215 -> 0.535164. Saving model...\n",
            "\n",
            "Epoch 28\tTraining loss: 0.512871\tValid loss: 0.535081\n",
            "Validation loss decreased: 0.535164 -> 0.535081. Saving model...\n",
            "\n",
            "Epoch 29\tTraining loss: 0.512085\tValid loss: 0.534978\n",
            "Validation loss decreased: 0.535081 -> 0.534978. Saving model...\n",
            "\n",
            "Epoch 30\tTraining loss: 0.511356\tValid loss: 0.534973\n",
            "Validation loss decreased: 0.534978 -> 0.534973. Saving model...\n",
            "\n"
          ]
        },
        {
          "output_type": "display_data",
          "data": {
            "text/plain": [
              "<Figure size 1200x800 with 1 Axes>"
            ],
            "image/png": "[encoded data removed]"
          },
          "metadata": {}
        }
      ],
      "source": [
        "n_epochs = 30\n",
        "valid_loss_min = np.Inf\n",
        "best_model_dict = None\n",
        "\n",
        "train_losses = []\n",
        "valid_losses = []\n",
        "\n",
        "for epoch in range(n_epochs):\n",
        "\n",
        "  train_loss = 0.0\n",
        "  valid_loss = 0.0\n",
        "\n",
        "  ###################\n",
        "  # train the model #\n",
        "  ###################\n",
        "  model.train()\n",
        "  for data, target in train_loader:\n",
        "    data, target = data.to(device), target.to(device)\n",
        "    # 1. clear the gradients\n",
        "    optimizer.zero_grad()\n",
        "    # 2. forward pass\n",
        "    y_pred = model(data)\n",
        "    # 3. calculate the loss\n",
        "    y_pred = torch.squeeze(y_pred)\n",
        "    loss = criterion(y_pred, target)\n",
        "    # 4. backward pass\n",
        "    loss.backward()\n",
        "    # 5. single optimization step\n",
        "    optimizer.step()\n",
        "    \n",
        "    train_loss += loss.item()*data.size(0)\n",
        "\n",
        "  ######################    \n",
        "  # validate the model #\n",
        "  ######################\n",
        "  model.eval()\n",
        "  for data, target in valid_loader:\n",
        "    data, target = data.to(device), target.to(device)\n",
        "    y_pred = model(data)\n",
        "    y_pred = torch.squeeze(y_pred)\n",
        "    loss = criterion(y_pred, target)\n",
        "\n",
        "    valid_loss += loss.item()*data.size(0)\n",
        "\n",
        "  train_loss = train_loss/len(train_loader.sampler)\n",
        "  train_losses.append(train_loss)\n",
        "  valid_loss = valid_loss/len(valid_loader.sampler)\n",
        "  valid_losses.append(valid_loss)\n",
        "  print(f\"Epoch {epoch+1}\\tTraining loss: {train_loss:.6f}\\tValid loss: {valid_loss:.6f}\")\n",
        "\n",
        "  if valid_loss <= valid_loss_min:\n",
        "    print(f\"Validation loss decreased: {valid_loss_min:.6f} -> {valid_loss:.6f}. Saving model...\\n\")\n",
        "    best_model_dict = model.state_dict()\n",
        "    valid_loss_min = valid_loss\n",
        "\n",
        "plt.figure(figsize=(12,8))\n",
        "plt.plot(train_losses, label=\"Train loss\")\n",
        "plt.plot(valid_losses, label=\"Valid loss\")\n",
        "plt.xlabel(\"Epochs\")\n",
        "plt.ylabel(\"BCE\")\n",
        "plt.legend()\n",
        "plt.savefig(\"loss_curves.png\", dpi=300)"
      ]
    },
    {
      "cell_type": "code",
      "source": [
        "# save best model\n",
        "torch.save(best_model_dict, \"./model\")"
      ],
      "metadata": {
        "id": "1aClWVUiSpE-"
      },
      "execution_count": 29,
      "outputs": []
    },
    {
      "cell_type": "code",
      "source": [
        "# load model with lowest valid loss\n",
        "model.load_state_dict(torch.load(\"./model\"))"
      ],
      "metadata": {
        "id": "AOPG3vQhPPx2",
        "colab": {
          "base_uri": "https://localhost:8080/"
        },
        "outputId": "5b118f6b-cf46-4c76-d13e-6498e6a352d3"
      },
      "execution_count": 30,
      "outputs": [
        {
          "output_type": "execute_result",
          "data": {
            "text/plain": [
              "<All keys matched successfully>"
            ]
          },
          "metadata": {},
          "execution_count": 30
        }
      ]
    },
    {
      "cell_type": "code",
      "execution_count": 31,
      "metadata": {
        "id": "I3Cd5O9Tqes9"
      },
      "outputs": [],
      "source": [
        "model.eval()\n",
        "model.to('cpu')\n",
        "y_pred = model(X_test)\n",
        "y_pred = y_pred.ge(.5).view(-1).cpu()\n",
        "y_test = y_test.cpu()"
      ]
    },
    {
      "cell_type": "code",
      "execution_count": 32,
      "metadata": {
        "id": "A-8bsdPO_FU1",
        "colab": {
          "base_uri": "https://localhost:8080/",
          "height": 454
        },
        "outputId": "de46abe7-5972-4506-a068-486837120ec9"
      },
      "outputs": [
        {
          "output_type": "display_data",
          "data": {
            "text/plain": [
              "<Figure size 640x480 with 2 Axes>"
            ],
            "image/png": "[encoded data removed]"
          },
          "metadata": {}
        }
      ],
      "source": [
        "classes = [\"No Precipitation\", \"Precipitation\"]\n",
        "conf_mat = confusion_matrix(y_test, y_pred)\n",
        "df_conf_mat = pd.DataFrame(conf_mat, index = classes, columns = classes)\n",
        "heat_map = sns.heatmap(df_conf_mat, annot = True, fmt = \"d\")\n",
        "plt.ylabel(\"Actual label\")\n",
        "plt.xlabel(\"Predicted label\")\n",
        "plt.savefig(\"confusion_matrix.png\", dpi=300)"
      ]
    },
    {
      "cell_type": "code",
      "source": [
        "print(classification_report(y_test, y_pred, target_names=classes))"
      ],
      "metadata": {
        "colab": {
          "base_uri": "https://localhost:8080/"
        },
        "id": "lcHMdxgFIUgd",
        "outputId": "b52b7c2c-3231-4981-e0d9-45a067ff546e"
      },
      "execution_count": 34,
      "outputs": [
        {
          "output_type": "stream",
          "name": "stdout",
          "text": [
            "                  precision    recall  f1-score   support\n",
            "\n",
            "No Precipitation       0.75      0.74      0.75      1464\n",
            "   Precipitation       0.74      0.75      0.75      1464\n",
            "\n",
            "        accuracy                           0.75      2928\n",
            "       macro avg       0.75      0.75      0.75      2928\n",
            "    weighted avg       0.75      0.75      0.75      2928\n",
            "\n"
          ]
        }
      ]
    }
  ],
  "metadata": {
    "accelerator": "GPU",
    "colab": {
      "provenance": []
    },
    "gpuClass": "standard",
    "kernelspec": {
      "display_name": "Python 3",
      "name": "python3"
    },
    "language_info": {
      "name": "python"
    }
  },
  "nbformat": 4,
  "nbformat_minor": 0
}